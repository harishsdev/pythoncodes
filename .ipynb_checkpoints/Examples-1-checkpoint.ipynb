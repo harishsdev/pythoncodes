{
 "cells": [
  {
   "cell_type": "markdown",
   "id": "ba453994",
   "metadata": {},
   "source": [
    "1.conditionals\n",
    "\n",
    "2.functions\n"
   ]
  },
  {
   "cell_type": "code",
   "execution_count": null,
   "id": "b74b5fd9",
   "metadata": {},
   "outputs": [],
   "source": [
    "a=30\n",
    "\n",
    "if a<5:\n",
    "    print('a<5')\n",
    "else:\n",
    "    print('a>5')"
   ]
  },
  {
   "cell_type": "code",
   "execution_count": null,
   "id": "e06c2c3a",
   "metadata": {},
   "outputs": [],
   "source": [
    "a=25\n",
    "    \n",
    "if a<5:\n",
    "    print('a<5')\n",
    "elif a<10:\n",
    "    print('a<10')\n",
    "elif a>20:\n",
    "    print('a>20')"
   ]
  },
  {
   "cell_type": "code",
   "execution_count": null,
   "id": "f4e819ef",
   "metadata": {},
   "outputs": [],
   "source": [
    "a=10\n",
    "b='a>5' if a>5 else 'a<5'"
   ]
  },
  {
   "cell_type": "code",
   "execution_count": null,
   "id": "12ea407f",
   "metadata": {},
   "outputs": [],
   "source": [
    "b"
   ]
  },
  {
   "cell_type": "code",
   "execution_count": null,
   "id": "b76d55fd",
   "metadata": {},
   "outputs": [],
   "source": [
    "#functions\n",
    "import math\n",
    "from math import sqrt\n",
    "p1=sqrt(9)"
   ]
  },
  {
   "cell_type": "code",
   "execution_count": null,
   "id": "dbc95825",
   "metadata": {},
   "outputs": [],
   "source": [
    "p1"
   ]
  },
  {
   "cell_type": "code",
   "execution_count": null,
   "id": "24a7ad49",
   "metadata": {},
   "outputs": [],
   "source": [
    "math.exp(p1)"
   ]
  },
  {
   "cell_type": "code",
   "execution_count": null,
   "id": "a57ed0a9",
   "metadata": {},
   "outputs": [],
   "source": [
    "def func_1():\n",
    "    print('func1')"
   ]
  },
  {
   "cell_type": "code",
   "execution_count": null,
   "id": "42ad654b",
   "metadata": {},
   "outputs": [],
   "source": [
    "func_1"
   ]
  },
  {
   "cell_type": "code",
   "execution_count": null,
   "id": "a21e9d8e",
   "metadata": {},
   "outputs": [],
   "source": [
    "func_1()"
   ]
  },
  {
   "cell_type": "code",
   "execution_count": null,
   "id": "f894c418",
   "metadata": {},
   "outputs": [],
   "source": [
    "def func_2(a,b):\n",
    "    return a*b\n"
   ]
  },
  {
   "cell_type": "code",
   "execution_count": null,
   "id": "d2dfa293",
   "metadata": {},
   "outputs": [],
   "source": [
    "func_2(3,2)"
   ]
  },
  {
   "cell_type": "code",
   "execution_count": null,
   "id": "6bc33d6c",
   "metadata": {},
   "outputs": [],
   "source": [
    "#a:int is just annotation means documentation\n",
    "def func_3(a:int,b:int):\n",
    "    return a*b"
   ]
  },
  {
   "cell_type": "code",
   "execution_count": null,
   "id": "b22157f0",
   "metadata": {},
   "outputs": [],
   "source": [
    "func_3(2,3)"
   ]
  },
  {
   "cell_type": "code",
   "execution_count": null,
   "id": "569cbfaa",
   "metadata": {},
   "outputs": [],
   "source": [
    "func_3('a',3)"
   ]
  },
  {
   "cell_type": "code",
   "execution_count": null,
   "id": "095a7c43",
   "metadata": {},
   "outputs": [],
   "source": [
    "func_3([1,2],3)"
   ]
  },
  {
   "cell_type": "code",
   "execution_count": null,
   "id": "00fc64dd",
   "metadata": {},
   "outputs": [],
   "source": [
    "def func_4():\n",
    "    return func_5()\n",
    "    \n",
    "def func_5():\n",
    "    return 'func 5'"
   ]
  },
  {
   "cell_type": "code",
   "execution_count": null,
   "id": "ad07baf4",
   "metadata": {},
   "outputs": [],
   "source": [
    "func_4()"
   ]
  },
  {
   "cell_type": "code",
   "execution_count": null,
   "id": "c5457d8b",
   "metadata": {},
   "outputs": [],
   "source": [
    "fn1=lambda x:x*2\n"
   ]
  },
  {
   "cell_type": "code",
   "execution_count": null,
   "id": "cb1a91fb",
   "metadata": {},
   "outputs": [],
   "source": [
    "fn1(2)"
   ]
  },
  {
   "cell_type": "code",
   "execution_count": null,
   "id": "c79aac61",
   "metadata": {},
   "outputs": [],
   "source": [
    "i=0\n",
    "while i<5:\n",
    "    print(i)\n",
    "    i+=1"
   ]
  },
  {
   "cell_type": "code",
   "execution_count": null,
   "id": "2573471f",
   "metadata": {},
   "outputs": [],
   "source": [
    "i=5\n",
    "while True:\n",
    "    print(i)\n",
    "    if i>=5:\n",
    "        break"
   ]
  },
  {
   "cell_type": "code",
   "execution_count": 2,
   "id": "a67e3a71",
   "metadata": {},
   "outputs": [
    {
     "name": "stdout",
     "output_type": "stream",
     "text": [
      "1\n",
      "3\n",
      "5\n",
      "7\n",
      "9\n"
     ]
    }
   ],
   "source": [
    "a=0\n",
    "while a<10:\n",
    "    a+=1\n",
    "    if a%2 ==0:\n",
    "        continue\n",
    "    print(a)"
   ]
  },
  {
   "cell_type": "code",
   "execution_count": 3,
   "id": "094069ab",
   "metadata": {},
   "outputs": [],
   "source": [
    "l=[1,2,3,4]\n",
    "val=20\n",
    "found=False\n",
    "idx=0\n"
   ]
  },
  {
   "cell_type": "code",
   "execution_count": null,
   "id": "06cbba0c",
   "metadata": {},
   "outputs": [],
   "source": []
  },
  {
   "cell_type": "code",
   "execution_count": 4,
   "id": "3371edcd",
   "metadata": {},
   "outputs": [],
   "source": [
    "#class\n",
    "\n",
    "class Rect():\n",
    "    def __init__(self,wd,ht):\n",
    "        self.wd=wd\n",
    "        self.ht=ht\n",
    "    def area(self):\n",
    "        return self.wd*self.ht\n",
    "    def "
   ]
  },
  {
   "cell_type": "code",
   "execution_count": 5,
   "id": "03edaef6",
   "metadata": {},
   "outputs": [],
   "source": [
    "c1=Rect(10,20)"
   ]
  },
  {
   "cell_type": "code",
   "execution_count": 6,
   "id": "157d6844",
   "metadata": {},
   "outputs": [
    {
     "data": {
      "text/plain": [
       "200"
      ]
     },
     "execution_count": 6,
     "metadata": {},
     "output_type": "execute_result"
    }
   ],
   "source": [
    "c1.area()"
   ]
  },
  {
   "cell_type": "code",
   "execution_count": 7,
   "id": "d1082375",
   "metadata": {},
   "outputs": [
    {
     "data": {
      "text/plain": [
       "'[1, 2, 3]'"
      ]
     },
     "execution_count": 7,
     "metadata": {},
     "output_type": "execute_result"
    }
   ],
   "source": [
    "l=[1,2,3]\n",
    "str(l)"
   ]
  },
  {
   "cell_type": "code",
   "execution_count": 9,
   "id": "dbd88087",
   "metadata": {},
   "outputs": [],
   "source": [
    "#compareing the objects\n",
    "class Rect():\n",
    "    def __init__(self,wd,ht):\n",
    "        self.wd=wd\n",
    "        self.ht=ht\n",
    "    def area(self):\n",
    "        return self.wd*self.ht\n",
    "    def __eq__(self,other):\n",
    "        return self.wt==other.wt and self.ht==other.wt\n",
    "        "
   ]
  },
  {
   "cell_type": "code",
   "execution_count": 10,
   "id": "f7af7339",
   "metadata": {},
   "outputs": [],
   "source": [
    "r2=Rect(10,20)\n",
    "r3=Rect(10,20)"
   ]
  },
  {
   "cell_type": "code",
   "execution_count": 11,
   "id": "ce740a6d",
   "metadata": {},
   "outputs": [
    {
     "ename": "AttributeError",
     "evalue": "'Rect' object has no attribute 'wt'",
     "output_type": "error",
     "traceback": [
      "\u001b[1;31m---------------------------------------------------------------------------\u001b[0m",
      "\u001b[1;31mAttributeError\u001b[0m                            Traceback (most recent call last)",
      "\u001b[1;32m<ipython-input-11-e09d5c87b92d>\u001b[0m in \u001b[0;36m<module>\u001b[1;34m\u001b[0m\n\u001b[1;32m----> 1\u001b[1;33m \u001b[0mr2\u001b[0m\u001b[1;33m==\u001b[0m\u001b[0mr3\u001b[0m\u001b[1;33m\u001b[0m\u001b[1;33m\u001b[0m\u001b[0m\n\u001b[0m",
      "\u001b[1;32m<ipython-input-9-0429ada7ed97>\u001b[0m in \u001b[0;36m__eq__\u001b[1;34m(self, other)\u001b[0m\n\u001b[0;32m      7\u001b[0m         \u001b[1;32mreturn\u001b[0m \u001b[0mself\u001b[0m\u001b[1;33m.\u001b[0m\u001b[0mwd\u001b[0m\u001b[1;33m*\u001b[0m\u001b[0mself\u001b[0m\u001b[1;33m.\u001b[0m\u001b[0mht\u001b[0m\u001b[1;33m\u001b[0m\u001b[1;33m\u001b[0m\u001b[0m\n\u001b[0;32m      8\u001b[0m     \u001b[1;32mdef\u001b[0m \u001b[0m__eq__\u001b[0m\u001b[1;33m(\u001b[0m\u001b[0mself\u001b[0m\u001b[1;33m,\u001b[0m\u001b[0mother\u001b[0m\u001b[1;33m)\u001b[0m\u001b[1;33m:\u001b[0m\u001b[1;33m\u001b[0m\u001b[1;33m\u001b[0m\u001b[0m\n\u001b[1;32m----> 9\u001b[1;33m         \u001b[1;32mreturn\u001b[0m \u001b[0mself\u001b[0m\u001b[1;33m.\u001b[0m\u001b[0mwt\u001b[0m\u001b[1;33m==\u001b[0m\u001b[0mother\u001b[0m\u001b[1;33m.\u001b[0m\u001b[0mwt\u001b[0m \u001b[1;32mand\u001b[0m \u001b[0mself\u001b[0m\u001b[1;33m.\u001b[0m\u001b[0mht\u001b[0m\u001b[1;33m==\u001b[0m\u001b[0mother\u001b[0m\u001b[1;33m.\u001b[0m\u001b[0mwt\u001b[0m\u001b[1;33m\u001b[0m\u001b[1;33m\u001b[0m\u001b[0m\n\u001b[0m\u001b[0;32m     10\u001b[0m \u001b[1;33m\u001b[0m\u001b[0m\n",
      "\u001b[1;31mAttributeError\u001b[0m: 'Rect' object has no attribute 'wt'"
     ]
    }
   ],
   "source": [
    "r2==r3"
   ]
  },
  {
   "cell_type": "code",
   "execution_count": 28,
   "id": "f5481e0f",
   "metadata": {},
   "outputs": [],
   "source": [
    "#compareing the objects\n",
    "class Rect():\n",
    "    def __init__(self,wd,ht):\n",
    "        self.wd=wd\n",
    "        self.ht=ht\n",
    "    def area(self):\n",
    "        return self.wd*self.ht\n",
    "    def __eq__(self,other):\n",
    "        if isinstance(other,Rect):\n",
    "            return self.wd==other.wd and self.ht==other.ht\n",
    "    "
   ]
  },
  {
   "cell_type": "code",
   "execution_count": 29,
   "id": "33849e1c",
   "metadata": {},
   "outputs": [],
   "source": [
    "r1=Rect(10,20)\n",
    "r2=Rect(10,20)"
   ]
  },
  {
   "cell_type": "code",
   "execution_count": 30,
   "id": "8ced8603",
   "metadata": {},
   "outputs": [
    {
     "data": {
      "text/plain": [
       "True"
      ]
     },
     "execution_count": 30,
     "metadata": {},
     "output_type": "execute_result"
    }
   ],
   "source": [
    "r1==r2"
   ]
  },
  {
   "cell_type": "code",
   "execution_count": 31,
   "id": "ec748a22",
   "metadata": {},
   "outputs": [],
   "source": [
    "#lessthan\n",
    "class Rect():\n",
    "    def __init__(self,wd,ht):\n",
    "        self.wd=wd\n",
    "        self.ht=ht\n",
    "    def get_wd(self):\n",
    "        return self._wd\n",
    "    def set_wd()\n",
    "    def area(self):\n",
    "        return self.wd*self.ht\n",
    "    def __eq__(self,other):\n",
    "        if isinstance(other,Rect):\n",
    "            return self.wd==other.wd and self.ht==other.ht\n",
    "    def __lt__(self,other):\n",
    "        if isinstance(other,Rect):\n",
    "            return self.area()<other.area()\n",
    "        else:\n",
    "            return NotImplemented\n",
    "    "
   ]
  },
  {
   "cell_type": "code",
   "execution_count": 33,
   "id": "d6832304",
   "metadata": {},
   "outputs": [],
   "source": [
    "r1=Rect(10,20)"
   ]
  },
  {
   "cell_type": "code",
   "execution_count": 35,
   "id": "12ef8e1c",
   "metadata": {},
   "outputs": [
    {
     "data": {
      "text/plain": [
       "10"
      ]
     },
     "execution_count": 35,
     "metadata": {},
     "output_type": "execute_result"
    }
   ],
   "source": [
    "r1.wd"
   ]
  },
  {
   "cell_type": "code",
   "execution_count": null,
   "id": "93cb7d0b",
   "metadata": {},
   "outputs": [],
   "source": []
  }
 ],
 "metadata": {
  "kernelspec": {
   "display_name": "Python 3",
   "language": "python",
   "name": "python3"
  },
  "language_info": {
   "codemirror_mode": {
    "name": "ipython",
    "version": 3
   },
   "file_extension": ".py",
   "mimetype": "text/x-python",
   "name": "python",
   "nbconvert_exporter": "python",
   "pygments_lexer": "ipython3",
   "version": "3.8.8"
  }
 },
 "nbformat": 4,
 "nbformat_minor": 5
}
